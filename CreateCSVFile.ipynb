{
 "cells": [
  {
   "cell_type": "code",
   "execution_count": 9,
   "id": "ec8bf459-a90e-401b-a101-50c64fa33af6",
   "metadata": {},
   "outputs": [
    {
     "name": "stdout",
     "output_type": "stream",
     "text": [
      "CSV file saved successfully at model_results.csv!\n"
     ]
    }
   ],
   "source": [
    "import pandas as pd\n",
    "\n",
    "# Load the original CSV file\n",
    "csv_path = \"/Users/yamellmejia/Desktop/model_results_tableau.csv\" \n",
    "df = pd.read_csv(csv_path)\n",
    "\n",
    "# Transform the data into the required format\n",
    "processed_data = []\n",
    "for _, row in df.iterrows():\n",
    "    dropout_rate = row[\"Dropout Rate\"]\n",
    "    hidden_dim = row[\"Hidden Dim\"]\n",
    "    learning_rate = row[\"Learning Rate\"]\n",
    "    metric = row[\"Metric\"]\n",
    "\n",
    "    if metric in [\"R2 Score\", \"MAE\"]:  # Handle overall metrics\n",
    "        processed_data.append([\n",
    "            dropout_rate, hidden_dim, learning_rate, metric, \"N/A\", row[\"Training Value\"], row[\"Validation Value\"]\n",
    "        ])\n",
    "    elif \"Epoch\" in metric:  # Handle training and validation losses for each epoch\n",
    "        epoch = int(metric.split(\" \")[1])  # Extract the numeric part of the epoch\n",
    "        processed_data.append([\n",
    "            dropout_rate, hidden_dim, learning_rate, \"Training Loss\", epoch, row[\"Training Value\"], row[\"Validation Value\"]\n",
    "        ])\n",
    "        processed_data.append([\n",
    "            dropout_rate, hidden_dim, learning_rate, \"Validation Loss\", epoch, row[\"Validation Value\"], row[\"Training Value\"]\n",
    "        ])\n",
    "\n",
    "# Convert to DataFrame\n",
    "df_final = pd.DataFrame(processed_data, columns=[\n",
    "    \"Dropout Rate\", \"Hidden Dim\", \"Learning Rate\", \"Metric Type\", \"Epoch\", \"Training Value\", \"Validation Value\"\n",
    "])\n",
    "\n",
    "# Save the final CSV with full precision\n",
    "output_path = \"model_results.csv\"\n",
    "df_final.to_csv(output_path, index=False, float_format=\"%.16f\")  # Use 'float_format' to preserve full numbers\n",
    "\n",
    "print(f\"CSV file saved successfully at {output_path}!\")\n"
   ]
  },
  {
   "cell_type": "code",
   "execution_count": null,
   "id": "24b8e0f3-e1e6-49d1-9100-dc2eda8ea66e",
   "metadata": {},
   "outputs": [],
   "source": []
  }
 ],
 "metadata": {
  "kernelspec": {
   "display_name": "Python 3 (ipykernel)",
   "language": "python",
   "name": "python3"
  },
  "language_info": {
   "codemirror_mode": {
    "name": "ipython",
    "version": 3
   },
   "file_extension": ".py",
   "mimetype": "text/x-python",
   "name": "python",
   "nbconvert_exporter": "python",
   "pygments_lexer": "ipython3",
   "version": "3.12.4"
  }
 },
 "nbformat": 4,
 "nbformat_minor": 5
}
